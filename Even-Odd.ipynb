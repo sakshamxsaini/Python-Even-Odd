{
 "cells": [
  {
   "cell_type": "code",
   "execution_count": null,
   "id": "7b5c0713",
   "metadata": {},
   "outputs": [],
   "source": [
    " #Python program to find whether a given number (accept from the user) is even or odd\n",
    "\n",
    "n = int(input(\"Enter the Number :-\"))\n",
    "\n",
    "if (n % 2) == 0:\n",
    "    print(\"This is Even Number\")\n",
    "else:\n",
    "    print(\"This is Odd Number\")"
   ]
  },
  {
   "cell_type": "code",
   "execution_count": null,
   "id": "a7579807",
   "metadata": {},
   "outputs": [],
   "source": []
  }
 ],
 "metadata": {
  "kernelspec": {
   "display_name": "Python 3 (ipykernel)",
   "language": "python",
   "name": "python3"
  },
  "language_info": {
   "codemirror_mode": {
    "name": "ipython",
    "version": 3
   },
   "file_extension": ".py",
   "mimetype": "text/x-python",
   "name": "python",
   "nbconvert_exporter": "python",
   "pygments_lexer": "ipython3",
   "version": "3.9.12"
  }
 },
 "nbformat": 4,
 "nbformat_minor": 5
}
